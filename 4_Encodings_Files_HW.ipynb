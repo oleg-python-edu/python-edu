{
 "cells": [
  {
   "cell_type": "markdown",
   "metadata": {},
   "source": [
    "### Большая часть задач требует операций с файлами, поэтому для воспроизводимости результатов работы вашего кода эти файлы нужно создавать\n",
    "\n",
    "### Можете их всех создавать в текущей папке, быстро и удобно это можно сделать таким способом:"
   ]
  },
  {
   "cell_type": "code",
   "execution_count": 1,
   "metadata": {
    "collapsed": false
   },
   "outputs": [],
   "source": [
    "text = \"\"\"123\n",
    "4567\n",
    " 8910\n",
    "\"\"\"\n",
    "with open('task_1.1_source', 'w') as f:\n",
    "    f.write(text)"
   ]
  },
  {
   "cell_type": "code",
   "execution_count": 2,
   "metadata": {
    "collapsed": false
   },
   "outputs": [
    {
     "name": "stdout",
     "output_type": "stream",
     "text": [
      "123\r\n",
      "4567\r\n",
      " 8910\r\n"
     ]
    }
   ],
   "source": [
    "!cat task_1.1_source"
   ]
  },
  {
   "cell_type": "markdown",
   "metadata": {},
   "source": [
    "# Базовый уровень"
   ]
  },
  {
   "cell_type": "markdown",
   "metadata": {},
   "source": [
    "## Задание 1.1\n",
    "\n",
    "Напишите функцию, копирующую файл\n",
    "\n",
    "source_path должен существовать, а отсутствующие промежуточные папки из target_path должны быть созданы\n",
    "\n",
    "Подсказка: можно прочитать исходный файл и записать в новый. \n",
    "\n",
    "Опциональное усложнение: попробуйте написать так, чтобы функция работала и с большими файлами (нужно, чтобы содежимое файла не считывалось полностью в память)"
   ]
  },
  {
   "cell_type": "code",
   "execution_count": 11,
   "metadata": {
    "collapsed": false
   },
   "outputs": [
    {
     "name": "stdout",
     "output_type": "stream",
     "text": [
      "123\r\n",
      "456\r\n",
      "789\r\n"
     ]
    }
   ],
   "source": [
    "text = \"\"\"123\n",
    "456\n",
    "789\n",
    "\"\"\"\n",
    "with open('task_1_1.txt', 'w') as f:\n",
    "    f.write(text)\n",
    "\n",
    "def copy_file(source_path, target_path):\n",
    "    src = open(source_path,'r')\n",
    "    dst = open(target_path,'w')\n",
    "    for line in src.xreadlines():\n",
    "        dst.write(line)\n",
    "    src.close\n",
    "    dst.close\n",
    "    return\n",
    "\n",
    "copy_file(\"task_1_1.txt\",\"task_1_1_2.txt\")\n",
    "\n",
    "!cat \"task_1_1_2.txt\""
   ]
  },
  {
   "cell_type": "markdown",
   "metadata": {},
   "source": [
    "## Задание 1.2\n",
    "\n",
    "##### В файле source_path находится англо-латинский словарь, то есть список слов на английском языке и их переводы на латинский язык (переводов может быть несколько). Необходимо создать из него латино-английский словарь по пути target_path. Например, из словаря\n",
    "\n",
    "\n",
    "\n",
    "apple - malum, pomum, popula\n",
    "\n",
    "fruit - baca, bacca, popum\n",
    "\n",
    "punishment - malum, multa\n",
    "\n",
    "\n",
    "\n",
    "##### нужно сделать словарь.\n",
    "\n",
    "baca - fruit\n",
    "\n",
    "bacca - fruit\n",
    "\n",
    "malum - apple, punishment\n",
    "\n",
    "multa - punishment\n",
    "\n",
    "pomum - apple\n",
    "\n",
    "popula - apple\n",
    "\n",
    "popum - fruit\n",
    "\n",
    "##### Не забудьте, что слова нужно расположить в алфавитном порядке.\n",
    "##### Будет полезна функция strip у строки для удаления пробелов\n",
    "\n"
   ]
  },
  {
   "cell_type": "code",
   "execution_count": 39,
   "metadata": {
    "collapsed": false
   },
   "outputs": [
    {
     "name": "stdout",
     "output_type": "stream",
     "text": [
      "baca - fruit \r\n",
      "bacca - fruit \r\n",
      "malum - punishment \r\n",
      "multa - punishment \r\n",
      "pomum - apple \r\n",
      "popula - apple \r\n",
      "popum - fruit \r\n"
     ]
    }
   ],
   "source": [
    "text = \"\"\"apple - malum, pomum, popula\n",
    "fruit - baca, bacca, popum\n",
    "punishment - malum, multa\n",
    "\"\"\"\n",
    "with open('task_1_2.txt', 'w') as f:\n",
    "    f.write(text)\n",
    "\n",
    "def eng_lat_2_lat_eng(source_path, target_path):\n",
    "    with open(source_path,'r') as src,open(target_path,'w') as dst:\n",
    "        lateng = dict()\n",
    "        for line in src.xreadlines():\n",
    "            eng = line.strip().split('-')[0]\n",
    "            latlist = line.strip().split('-')[1].split(',')\n",
    "            for lat in latlist:\n",
    "                lateng[lat.strip()] = eng\n",
    "        for lat in sorted(lateng):\n",
    "            dst.write('{} - {}\\n'.format(lat,lateng[lat]))\n",
    "    return\n",
    "\n",
    "eng_lat_2_lat_eng('task_1_2.txt', 'task_1_2_2.txt')\n",
    "\n",
    "!cat task_1_2_2.txt"
   ]
  },
  {
   "cell_type": "markdown",
   "metadata": {},
   "source": [
    "## Задание 1.3\n",
    "\n",
    "Напишите функцию, вычисляющую длину русского слова, независимо от его кодировки\n",
    "\n",
    "Если параметр encoding задан, то нужно декодировать текст при помощи этой кодировки. А если он не задан, то кодировку надо определить самостоятельно.\n",
    "\n",
    "##### Если кодировка не задана, то точное решение здесь написать не получится. Но можно воспользоваться функцией my_decoder из лекции"
   ]
  },
  {
   "cell_type": "code",
   "execution_count": 40,
   "metadata": {
    "collapsed": true
   },
   "outputs": [],
   "source": [
    "import chardet\n",
    "def my_decoder(val):\n",
    "    if type(val) is unicode:\n",
    "        return val\n",
    "    else:\n",
    "        return unicode(val, encoding=chardet.detect(val)['encoding'])\n",
    "    \n",
    "def my_len(word, encoding=None):\n",
    "    if encoding != None:\n",
    "        return len(word.decode(encoding))\n",
    "    else:\n",
    "        return len(my_decoder(word))\n",
    "    return"
   ]
  },
  {
   "cell_type": "code",
   "execution_count": 41,
   "metadata": {
    "collapsed": false
   },
   "outputs": [
    {
     "data": {
      "text/plain": [
       "True"
      ]
     },
     "execution_count": 41,
     "metadata": {},
     "output_type": "execute_result"
    }
   ],
   "source": [
    "my_len('текст') == 5"
   ]
  },
  {
   "cell_type": "code",
   "execution_count": 42,
   "metadata": {
    "collapsed": false
   },
   "outputs": [
    {
     "data": {
      "text/plain": [
       "True"
      ]
     },
     "execution_count": 42,
     "metadata": {},
     "output_type": "execute_result"
    }
   ],
   "source": [
    "my_len(u'текст') == 5"
   ]
  },
  {
   "cell_type": "code",
   "execution_count": 43,
   "metadata": {
    "collapsed": false
   },
   "outputs": [
    {
     "data": {
      "text/plain": [
       "True"
      ]
     },
     "execution_count": 43,
     "metadata": {},
     "output_type": "execute_result"
    }
   ],
   "source": [
    "my_len(u'ааааа'.encode('utf_16'), encoding='utf_16') == 5"
   ]
  },
  {
   "cell_type": "code",
   "execution_count": 44,
   "metadata": {
    "collapsed": false
   },
   "outputs": [
    {
     "data": {
      "text/plain": [
       "True"
      ]
     },
     "execution_count": 44,
     "metadata": {},
     "output_type": "execute_result"
    }
   ],
   "source": [
    "my_len(u'текст'.encode('windows-1251')) == 5"
   ]
  },
  {
   "cell_type": "markdown",
   "metadata": {},
   "source": [
    "# Продвинутый уровень"
   ]
  },
  {
   "cell_type": "markdown",
   "metadata": {},
   "source": [
    "## Задание 2.1\n",
    "\n",
    "Напишите функцию, которая выписывает список файлов в данной директории и сортирует их в соответствии с их размером. Функция должна получать путь к директории в качестве аргумента и печатать на экран имена всех файлов в ней и их размеры, причем первыми должны идти файлы с наибольшими размерами, а в случае одинакового размер файлы сортируются по алфавиту.\n",
    "\n",
    "##### Указание. Изучите функции listdir и stat из модуля os и функции isfile и join из модуля os.path.\n"
   ]
  },
  {
   "cell_type": "code",
   "execution_count": 69,
   "metadata": {
    "collapsed": false
   },
   "outputs": [
    {
     "name": "stdout",
     "output_type": "stream",
     "text": [
      "3_Syntax_part2_hw.ipynb 25870\n",
      "4_Encodings_Files_HW.ipynb 14914\n",
      "2_Syntax_part1_hw.ipynb 10928\n",
      "1_Intro_hw.ipynb 7408\n",
      "task_1_2_2.txt 115\n",
      "copy.txt 82\n",
      "task_1_2.txt 82\n",
      "vocabulary.txt 82\n",
      "task_1_1.txt 12\n",
      "task_1_1_2.txt 12\n"
     ]
    }
   ],
   "source": [
    "import os\n",
    "\n",
    "def get_dir_content_info(dir_path):\n",
    "    files = []\n",
    "    for fl in os.listdir(dir_path):\n",
    "        if os.path.isfile(fl):\n",
    "            files.append([long(os.stat(os.path.join(dir_path,fl)).st_size),fl])\n",
    "    for fl in sorted(files,key=lambda x: [-x[0],x[1]]):\n",
    "        print('{} {}'.format(fl[1],fl[0]))\n",
    "    return\n",
    "get_dir_content_info('.')"
   ]
  },
  {
   "cell_type": "markdown",
   "metadata": {},
   "source": [
    "## Задание 2.2\n",
    "\n",
    "Аналогично 1.2, но только теперь англо-русский в русско-английский словарь. Дополнительно теперь будет ещё параметр encoding для кодировки файлов. Если он None, то нужно самостоятельно определить кодировку файла.\n",
    "\n",
    "##### Решение будет почти дублировать 1.2, но сначала текст нужно привести в unicode"
   ]
  },
  {
   "cell_type": "code",
   "execution_count": 85,
   "metadata": {
    "collapsed": false
   },
   "outputs": [
    {
     "name": "stdout",
     "output_type": "stream",
     "text": [
      "бегемот - hippo \r\n",
      "большая лошадка - horse \r\n",
      "лошадка - pony \r\n",
      "маленькая лошадка - pony \r\n",
      "носорог - rhino \r\n",
      "пони - pony \r\n"
     ]
    }
   ],
   "source": [
    "\n",
    "\n",
    "text = u\"\"\"pony - пони, лошадка, маленькая лошадка\n",
    "horse - большая лошадка\n",
    "hippo - бегемот\n",
    "rhino - носорог\n",
    "\"\"\"\n",
    "with open('task_2_2.txt', 'w') as f:\n",
    "    f.write(text.encode('windows-1251'))\n",
    "        \n",
    "import chardet\n",
    "\n",
    "def my_decoder(val, encoding=None):\n",
    "    if encoding != None:\n",
    "        return val.decode(encoding)\n",
    "    if type(val) is unicode:\n",
    "        return val\n",
    "    else:\n",
    "        return unicode(val, encoding=chardet.detect(val)['encoding'])\n",
    "\n",
    "def eng_rus_2_rus_eng(source_path, target_path, encoding=None):\n",
    "    with open(source_path,'r') as src,open(target_path,'w') as dst:\n",
    "        ruseng = dict()\n",
    "        for bline in src.xreadlines():\n",
    "            line = my_decoder(bline,encoding) \n",
    "            eng = line.strip().split('-')[0]\n",
    "            ruslist = line.strip().split('-')[1].split(',')\n",
    "            for rus in ruslist:\n",
    "                ruseng[rus.strip()] = eng\n",
    "        for rus in sorted(ruseng):\n",
    "            dst.write(u'{} - {}\\n'.format(rus,ruseng[rus]).encode('utf-8'))\n",
    "    return\n",
    "\n",
    "eng_rus_2_rus_eng('task_2_2.txt', 'task_2_2_2.txt','windows-1251')\n",
    "\n",
    "!cat task_2_2_2.txt"
   ]
  },
  {
   "cell_type": "markdown",
   "metadata": {},
   "source": [
    "# Сложный уровень"
   ]
  },
  {
   "cell_type": "markdown",
   "metadata": {},
   "source": [
    "## Задание 3.1\n",
    "\n",
    "Существует исследование, говорящее о том, что в словах текста можно произвольно переставить буквы (не затрагивая первую и последнюю), и от этого читабельность текста практически не ухудшится. Напишите функцию для проверки этого факта. Ваша функция должна получать на вход какой-нибудь текст (может быть и на русском языке) и переставлять буквы в его словах случайным образом. \n",
    "\n",
    "Если seed None, то буквы переставляются не случайным образом, а сортируются по алфавиту (латинские символы считаем меньше кириллических). Если seed не None, то нужно использовать это seed при инициализации рандома. Сравните результаты.\n",
    "\n",
    "##### будем считать, что текст это последовательность кириллических и латинских символов разделённая пробелом\n",
    "##### вам потребуется модуль random и функции random.seed и random.shuffle\n",
    "\n",
    "##### проверьте результат работы на не юникодовских строчках и объясните результат"
   ]
  },
  {
   "cell_type": "markdown",
   "metadata": {},
   "source": [
    "*на неюникоде, увы, не работает (ошибка преобразования)*"
   ]
  },
  {
   "cell_type": "code",
   "execution_count": 129,
   "metadata": {
    "collapsed": false
   },
   "outputs": [
    {
     "name": "stdout",
     "output_type": "stream",
     "text": [
      "zadfghksавпфыl аaaaaadeeffghhiiinoqqqqrsuuuuvwzzzzя\n",
      "zgвsфaаkdпhfыl аquzaeizgiafnuuurwhdzaoeiavhfqqzsaqя\n"
     ]
    }
   ],
   "source": [
    "import random\n",
    "\n",
    "def word_shuffle(word):\n",
    "    lettersmess = list(word[1:-1])\n",
    "    random.shuffle(lettersmess)\n",
    "    return word[0] + u''.join(lettersmess) + word[-1]\n",
    "\n",
    "def word_sort(word):\n",
    "    return word[0] + u''.join(sorted(word[1:-1])) + word[-1]\n",
    "\n",
    "def text_shuffle(text, seed=None):\n",
    "    if seed is None:\n",
    "        random.seed(seed)\n",
    "        result = map(word_sort,text.split(' '))\n",
    "    else:\n",
    "        result = map(word_shuffle,text.split(' '))\n",
    "    return u' '.join(result)\n",
    "\n",
    "print text_shuffle(u'zasdфывапfghkl аasdfwqieuoiuhugnvqiurhfqeqaaaazzzzя')\n",
    "print text_shuffle(u'zasdфывапfghkl аasdfwqieuoiuhugnvqiurhfqeqaaaazzzzя',0.5)\n"
   ]
  },
  {
   "cell_type": "markdown",
   "metadata": {},
   "source": [
    "## Задание 3.2\n",
    "\n",
    "Напишите функцию, которая читает два файла построчно (то есть не загружая всё содержимое в память), и записывает в выходной файл результат лексиграфического сравнение срочки из первого файла и из второго (First, Second и Equal по аналогии c предыдущим ДЗ)."
   ]
  },
  {
   "cell_type": "code",
   "execution_count": 144,
   "metadata": {
    "collapsed": false
   },
   "outputs": [
    {
     "name": "stdout",
     "output_type": "stream",
     "text": [
      "Equal\r\n",
      "Equal\r\n",
      "First\r\n",
      "First\r\n",
      "Second\r\n"
     ]
    }
   ],
   "source": [
    "text1 = u\"\"\"pony - пони, лошадка, маленькая лошадка\n",
    "horse - большая лошадка\n",
    "hippo - бегемот\n",
    "rhino - носорог\n",
    "dog - собачка\n",
    "\"\"\"\n",
    "text2 = u\"\"\"pony - пони, лошадка, маленькая лошадка\n",
    "horse - большая лошадка\n",
    "hippo - бегемот, гиппопотам\n",
    "squirrel - белочка\n",
    "bird - птичка\n",
    "\"\"\"\n",
    "with open('task_3_2_1.txt', 'w') as f:\n",
    "    f.write(text1.encode('utf-8'))\n",
    "    \n",
    "with open('task_3_2_2.txt', 'w') as f:\n",
    "    f.write(text2.encode('utf-8'))\n",
    "\n",
    "from itertools import izip\n",
    "    \n",
    "def compare_str(a,b):\n",
    "    if (a < b):\n",
    "        return 'First'\n",
    "    elif (a > b):\n",
    "        return 'Second'\n",
    "    else:\n",
    "        return 'Equal'\n",
    "\n",
    "def process(fst_source_path, snd_source_path, target_path):\n",
    "    with open(fst_source_path,'r') as src1,open(snd_source_path,'r') as src2,open(target_path,'w') as dst:\n",
    "        for s1,s2 in izip(src1.xreadlines(),src2.xreadlines()):\n",
    "            dst.write(compare_str(s1.decode('utf-8'),s2.decode('utf-8'))+u'\\n')\n",
    "    return\n",
    "\n",
    "process('task_3_2_1.txt','task_3_2_2.txt','task_3_2_3.txt')\n",
    "\n",
    "!cat task_3_2_3.txt"
   ]
  },
  {
   "cell_type": "code",
   "execution_count": null,
   "metadata": {
    "collapsed": true
   },
   "outputs": [],
   "source": []
  }
 ],
 "metadata": {
  "anaconda-cloud": {},
  "kernelspec": {
   "display_name": "Python 2",
   "language": "python",
   "name": "python2"
  },
  "language_info": {
   "codemirror_mode": {
    "name": "ipython",
    "version": 2
   },
   "file_extension": ".py",
   "mimetype": "text/x-python",
   "name": "python",
   "nbconvert_exporter": "python",
   "pygments_lexer": "ipython2",
   "version": "2.7.13"
  }
 },
 "nbformat": 4,
 "nbformat_minor": 2
}
